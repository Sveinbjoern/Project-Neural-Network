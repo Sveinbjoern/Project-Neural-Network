{
 "cells": [
  {
   "cell_type": "code",
   "execution_count": 1,
   "id": "cebdbbe1-5e0b-49f1-92d4-48dff67a2edc",
   "metadata": {},
   "outputs": [
    {
     "name": "stdout",
     "output_type": "stream",
     "text": [
      "3.11.9 | packaged by Anaconda, Inc. | (main, Apr 19 2024, 16:40:41) [MSC v.1916 64 bit (AMD64)]\n"
     ]
    }
   ],
   "source": [
    "import sys\n",
    "print(sys.version)"
   ]
  },
  {
   "cell_type": "markdown",
   "id": "73278300-9526-4452-81f2-39495a99469b",
   "metadata": {},
   "source": [
    "INTRO AND TABLE OF CONTENTS\n",
    "\n",
    "# MAIN DOCUMENT\n",
    "### This document ties together all the documents. Handles storing of models, trainingdata, statistics and all other data thta needs to be stored. "
   ]
  },
  {
   "cell_type": "markdown",
   "id": "7eeac44b-6ac6-49d6-8138-13d8191f45d9",
   "metadata": {},
   "source": [
    "## Imports"
   ]
  },
  {
   "cell_type": "code",
   "execution_count": 2,
   "id": "7ae5dd8c-7e24-411a-bb20-8b53f6ac3a8e",
   "metadata": {},
   "outputs": [],
   "source": [
    "import nbimporter\n",
    "import torch\n",
    "import importlib"
   ]
  },
  {
   "cell_type": "code",
   "execution_count": 3,
   "id": "5b7fed3a-c514-4a13-a0b9-a1f3ef505642",
   "metadata": {},
   "outputs": [],
   "source": [
    "#Local imports\n",
    "import FirstMNISTTest\n",
    "import helperFunctions as hf"
   ]
  },
  {
   "cell_type": "code",
   "execution_count": 4,
   "id": "39fdff17-0f9a-4104-bbcc-fa94b6ef267e",
   "metadata": {},
   "outputs": [
    {
     "data": {
      "text/plain": [
       "<module 'helperFunctions' from 'helperFunctions.ipynb'>"
      ]
     },
     "execution_count": 4,
     "metadata": {},
     "output_type": "execute_result"
    }
   ],
   "source": [
    "#reimport local resources\n",
    "importlib.reload(FirstMNISTTest)\n",
    "importlib.reload(hf)"
   ]
  },
  {
   "cell_type": "code",
   "execution_count": 5,
   "id": "7ed55641-f0b4-42b9-9039-402edee451ff",
   "metadata": {},
   "outputs": [
    {
     "name": "stdout",
     "output_type": "stream",
     "text": [
      "Using cpu device\n"
     ]
    }
   ],
   "source": [
    "# Get cpu, gpu or mps device for training. Excellent little code snippet that checks what form of acceleration is available. Code from https://pytorch.org/tutorials/beginner/basics/quickstart_tutorial.html\n",
    "device = hf.get_device()"
   ]
  },
  {
   "cell_type": "markdown",
   "id": "222ac3f7-32dc-414d-a0a8-a57ec2a43a5b",
   "metadata": {},
   "source": [
    "# MODELS"
   ]
  },
  {
   "cell_type": "code",
   "execution_count": 9,
   "id": "37247d86-794c-4ffe-9da3-26e341b69505",
   "metadata": {},
   "outputs": [],
   "source": [
    "simpleMNISTModel = FirstMNISTTest.NeuralNetwork().to(device)"
   ]
  },
  {
   "cell_type": "code",
   "execution_count": null,
   "id": "cedbb18d-8ae0-4294-a363-90492e11deec",
   "metadata": {},
   "outputs": [],
   "source": []
  },
  {
   "cell_type": "markdown",
   "id": "1cbb7006-8caa-4f28-8285-c544a32970f5",
   "metadata": {},
   "source": [
    "# Visualizations and data"
   ]
  },
  {
   "cell_type": "code",
   "execution_count": null,
   "id": "36e1beaf-4b4b-4ee4-8789-5ce69a87e3fc",
   "metadata": {},
   "outputs": [],
   "source": []
  },
  {
   "cell_type": "code",
   "execution_count": 38,
   "id": "c18a6b31-d70a-46fa-a625-02c3ef36fdb8",
   "metadata": {},
   "outputs": [
    {
     "name": "stdout",
     "output_type": "stream",
     "text": [
      "[0, 0, 151, 132, 50, 454, 149, 47, 167, 53]\n",
      "[0, 0, 35, 12, 10, 26, 8, 54, 28, 17]\n",
      "[2, 32, 0, 15, 4, 19, 3, 40, 24, 7]\n",
      "[3, 16, 42, 0, 1, 204, 3, 4, 231, 14]\n",
      "[0, 0, 6, 0, 0, 2, 1, 3, 2, 19]\n",
      "[0, 0, 0, 0, 0, 0, 0, 0, 0, 0]\n",
      "[4, 6, 57, 6, 87, 48, 0, 4, 78, 19]\n",
      "[0, 0, 6, 9, 2, 17, 1, 0, 12, 17]\n",
      "[1, 1, 12, 5, 2, 23, 0, 1, 0, 2]\n",
      "[0, 5, 4, 22, 450, 99, 1, 159, 92, 0]\n"
     ]
    }
   ],
   "source": [
    "#failed matrix: Gives a more general understanding of where the model fails. What numbers does it pick wrong and for witch number!\n",
    "failedMatrix = [[0 for x in range(10)] for x in range(10)] \n",
    "for elem in listOfFails:\n",
    "    failedMatrix[elem[1].int()][elem[2]] += 1\n",
    "for row in failedMatrix:\n",
    "    print(row)"
   ]
  },
  {
   "cell_type": "code",
   "execution_count": null,
   "id": "2a75bd9c-f440-4122-84be-8a76d86acaae",
   "metadata": {},
   "outputs": [],
   "source": []
  }
 ],
 "metadata": {
  "kernelspec": {
   "display_name": "Python 3 (ipykernel)",
   "language": "python",
   "name": "python3"
  },
  "language_info": {
   "codemirror_mode": {
    "name": "ipython",
    "version": 3
   },
   "file_extension": ".py",
   "mimetype": "text/x-python",
   "name": "python",
   "nbconvert_exporter": "python",
   "pygments_lexer": "ipython3",
   "version": "3.11.9"
  }
 },
 "nbformat": 4,
 "nbformat_minor": 5
}
