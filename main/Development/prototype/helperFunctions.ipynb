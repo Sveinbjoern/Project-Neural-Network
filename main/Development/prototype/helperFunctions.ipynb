{
 "cells": [
  {
   "cell_type": "code",
   "execution_count": null,
   "id": "31192263-62a0-40c5-89cc-4321185329bc",
   "metadata": {},
   "outputs": [],
   "source": [
    "import sys\n",
    "print(sys.version)"
   ]
  },
  {
   "cell_type": "markdown",
   "id": "4d45c023-ad06-43ab-8a09-ad401855d0a8",
   "metadata": {},
   "source": [
    "# Helper functions, contains code that is used multiple times in the project "
   ]
  },
  {
   "cell_type": "code",
   "execution_count": 15,
   "id": "70164397-7a12-420a-97c3-9e9f928b6a02",
   "metadata": {},
   "outputs": [],
   "source": [
    "import torch\n",
    "import torch.nn as nn\n",
    "import torch.optim as optim"
   ]
  },
  {
   "cell_type": "code",
   "execution_count": null,
   "id": "b9740d94-5487-48bf-8b50-ad1085959e11",
   "metadata": {},
   "outputs": [],
   "source": [
    "def tellALie():\n",
    "    print( \"You have all the time in the world!\")"
   ]
  },
  {
   "cell_type": "markdown",
   "id": "e2b3eeda-5788-4df3-87c8-22d96b3018ae",
   "metadata": {},
   "source": [
    "## Saving and loading"
   ]
  },
  {
   "cell_type": "code",
   "execution_count": null,
   "id": "ca06d0d1-f09c-4c2a-a613-bf10d393d2b4",
   "metadata": {},
   "outputs": [],
   "source": [
    "def saveModel(model_name, loss ):\n",
    "    torch.save({\n",
    "    'model_state_dict': model.state_dict(),\n",
    "    'optimizer_state_dict': optimizer.state_dict(),\n",
    "    'loss': loss,\n",
    "    'stats': stats}, \n",
    "    model_name + \".pth\")"
   ]
  },
  {
   "cell_type": "code",
   "execution_count": null,
   "id": "756d2579-95d9-46ff-9002-7165d3a6a452",
   "metadata": {},
   "outputs": [],
   "source": [
    "def loadModel_and_stats(modelInstance, saveFile):\n",
    "    modelInstance"
   ]
  },
  {
   "cell_type": "code",
   "execution_count": null,
   "id": "1b80e33f-88bd-4c65-b9c2-888e805891e4",
   "metadata": {},
   "outputs": [],
   "source": [
    "# Stats that I will always save for any training is the loss and accuacy data. \n",
    "# Not only the data I obtain at the end of training but also during to see how fast the models get better.\n",
    "# All stats should be in the same format for every model. That is why this code is there to ensure consistency!\n",
    "def return_stats_dict( num_epochs, loss_data, acc_data, activisation_data = [], other_data = {}):\n",
    "    return {'epoch':  num_epoch ,\n",
    "        'loss_data': loss_data ,\n",
    "        'acc_data': acc_data , \n",
    "        'activisation_data': activisation_data ,\n",
    "        'other_data': other_data }"
   ]
  },
  {
   "cell_type": "code",
   "execution_count": null,
   "id": "67692474-7807-4cd5-81c0-1efaae1448c9",
   "metadata": {},
   "outputs": [],
   "source": [
    "# Each model should only have one set of stats\n",
    "def saveTrainingStats(nameOfModel):\n",
    "    print(\"save stats to file\")"
   ]
  },
  {
   "cell_type": "code",
   "execution_count": null,
   "id": "0a64a3bf-58a1-4b8a-bfb0-37b09e9b9e00",
   "metadata": {},
   "outputs": [],
   "source": [
    "# Each model should only have one set of stats\n",
    "def loadTrainingStats(nameOfModel):\n",
    "    print(\"load stats from file\")"
   ]
  },
  {
   "cell_type": "markdown",
   "id": "e73fc3a7-5007-432f-a824-cac3fdcd354e",
   "metadata": {},
   "source": [
    "## datamanagment and image processing"
   ]
  },
  {
   "cell_type": "code",
   "execution_count": 21,
   "id": "9c4bce11-f137-4627-99dd-94bee25e89a7",
   "metadata": {},
   "outputs": [],
   "source": [
    "# Get cpu, gpu or mps device for training. Excellent little code snippet that checks what form of acceleration is available. Code from https://pytorch.org/tutorials/beginner/basics/quickstart_tutorial.html\n",
    "def get_device():\n",
    "    device = (\n",
    "        \"cuda\"\n",
    "        if torch.cuda.is_available()\n",
    "        else \"mps\"\n",
    "        if torch.backends.mps.is_available()\n",
    "        else \"cpu\" )\n",
    "    print(f\"Using {device} device\")\n",
    "    return device"
   ]
  },
  {
   "cell_type": "markdown",
   "id": "357bfa44-22c2-483a-aeea-0729476d1db8",
   "metadata": {},
   "source": [
    "## Visualisations and graphs"
   ]
  },
  {
   "cell_type": "code",
   "execution_count": 23,
   "id": "7c5b955f-e72f-422f-870e-f57c5087c540",
   "metadata": {},
   "outputs": [],
   "source": [
    "def failureMatrixMNIST(listOfFails):\n",
    "    failedMatrix = [[0 for x in range(10)] for x in range(10)] \n",
    "    for elem in listOfFails:\n",
    "        failedMatrix[elem[1].int()][elem[2]] += 1\n",
    "    for row in failedMatrix:\n",
    "        print(row)"
   ]
  },
  {
   "cell_type": "code",
   "execution_count": null,
   "id": "e54c1cfa-00a5-498b-a9b3-ae1f637ec7be",
   "metadata": {},
   "outputs": [],
   "source": []
  }
 ],
 "metadata": {
  "kernelspec": {
   "display_name": "Python 3 (ipykernel)",
   "language": "python",
   "name": "python3"
  },
  "language_info": {
   "codemirror_mode": {
    "name": "ipython",
    "version": 3
   },
   "file_extension": ".py",
   "mimetype": "text/x-python",
   "name": "python",
   "nbconvert_exporter": "python",
   "pygments_lexer": "ipython3",
   "version": "3.11.9"
  }
 },
 "nbformat": 4,
 "nbformat_minor": 5
}
