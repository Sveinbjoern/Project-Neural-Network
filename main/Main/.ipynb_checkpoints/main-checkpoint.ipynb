{
 "cells": [
  {
   "cell_type": "code",
   "execution_count": 1,
   "id": "cebdbbe1-5e0b-49f1-92d4-48dff67a2edc",
   "metadata": {},
   "outputs": [
    {
     "name": "stdout",
     "output_type": "stream",
     "text": [
      "3.11.9 | packaged by Anaconda, Inc. | (main, Apr 19 2024, 16:40:41) [MSC v.1916 64 bit (AMD64)]\n"
     ]
    }
   ],
   "source": [
    "import sys\n",
    "print(sys.version)"
   ]
  },
  {
   "cell_type": "markdown",
   "id": "73278300-9526-4452-81f2-39495a99469b",
   "metadata": {},
   "source": [
    "INTRO AND TABLE OF CONTENTS\n",
    "\n",
    "# MAIN DOCUMENT\n",
    "### This document ties together all the documents. Handles storing of models, trainingdata, statistics and all other data thta needs to be stored. "
   ]
  },
  {
   "cell_type": "markdown",
   "id": "7eeac44b-6ac6-49d6-8138-13d8191f45d9",
   "metadata": {},
   "source": [
    "## Imports"
   ]
  },
  {
   "cell_type": "code",
   "execution_count": 2,
   "id": "6d68dfa8-4ca8-4a43-b5fe-c4a1778415d1",
   "metadata": {},
   "outputs": [],
   "source": [
    " # Enable autoreloading\n",
    "%load_ext autoreload \n",
    "# Enable selective autoreloading  \n",
    "%autoreload 1 "
   ]
  },
  {
   "cell_type": "code",
   "execution_count": 3,
   "id": "7ae5dd8c-7e24-411a-bb20-8b53f6ac3a8e",
   "metadata": {},
   "outputs": [],
   "source": [
    "import nbimporter\n",
    "import importlib\n",
    "import torch\n",
    "from torch.utils.data import DataLoader"
   ]
  },
  {
   "cell_type": "code",
   "execution_count": 4,
   "id": "5b7fed3a-c514-4a13-a0b9-a1f3ef505642",
   "metadata": {},
   "outputs": [
    {
     "ename": "IndentationError",
     "evalue": "expected an indented block after function definition on line 4 (<unknown>, line 5)",
     "output_type": "error",
     "traceback": [
      "Traceback \u001b[1;36m(most recent call last)\u001b[0m:\n",
      "\u001b[0m  File \u001b[0;32m~\\anaconda3\\envs\\Python15-9-24\\Lib\\site-packages\\IPython\\core\\interactiveshell.py:3577\u001b[0m in \u001b[0;35mrun_code\u001b[0m\n    exec(code_obj, self.user_global_ns, self.user_ns)\u001b[0m\n",
      "\u001b[0m  Cell \u001b[0;32mIn[4], line 4\u001b[0m\n    import HelperFunctions as hf\u001b[0m\n",
      "\u001b[0m  File \u001b[0;32m<frozen importlib._bootstrap>:1176\u001b[0m in \u001b[0;35m_find_and_load\u001b[0m\n",
      "\u001b[0m  File \u001b[0;32m<frozen importlib._bootstrap>:1147\u001b[0m in \u001b[0;35m_find_and_load_unlocked\u001b[0m\n",
      "\u001b[0m  File \u001b[0;32m<frozen importlib._bootstrap>:674\u001b[0m in \u001b[0;35m_load_unlocked\u001b[0m\n",
      "\u001b[0m  File \u001b[0;32m<frozen importlib._bootstrap>:634\u001b[0m in \u001b[0;35m_load_backward_compatible\u001b[0m\n",
      "\u001b[0m  File \u001b[0;32m~\\anaconda3\\envs\\Python15-9-24\\Lib\\site-packages\\nbimporter.py:105\u001b[0m in \u001b[0;35mload_module\u001b[0m\n    tree = deleter.generic_visit(ast.parse(code))\u001b[0m\n",
      "\u001b[1;36m  File \u001b[1;32m~\\anaconda3\\envs\\Python15-9-24\\Lib\\ast.py:50\u001b[1;36m in \u001b[1;35mparse\u001b[1;36m\n\u001b[1;33m    return compile(source, filename, mode, flags,\u001b[1;36m\n",
      "\u001b[1;36m  File \u001b[1;32m<unknown>:5\u001b[1;36m\u001b[0m\n\u001b[1;33m    size = len(dataloader.dataset)\u001b[0m\n\u001b[1;37m    ^\u001b[0m\n\u001b[1;31mIndentationError\u001b[0m\u001b[1;31m:\u001b[0m expected an indented block after function definition on line 4\n"
     ]
    }
   ],
   "source": [
    "#Local imports\n",
    "\n",
    "import FirstMNISTTest\n",
    "import HelperFunctions as hf\n",
    "import Tests"
   ]
  },
  {
   "cell_type": "code",
   "execution_count": 8,
   "id": "39fdff17-0f9a-4104-bbcc-fa94b6ef267e",
   "metadata": {},
   "outputs": [
    {
     "ename": "IndentationError",
     "evalue": "expected an indented block after function definition on line 4 (<unknown>, line 5)",
     "output_type": "error",
     "traceback": [
      "Traceback \u001b[1;36m(most recent call last)\u001b[0m:\n",
      "\u001b[0m  File \u001b[0;32m~\\anaconda3\\envs\\Python15-9-24\\Lib\\site-packages\\IPython\\core\\interactiveshell.py:3577\u001b[0m in \u001b[0;35mrun_code\u001b[0m\n    exec(code_obj, self.user_global_ns, self.user_ns)\u001b[0m\n",
      "\u001b[0m  Cell \u001b[0;32mIn[8], line 2\u001b[0m\n    get_ipython().run_line_magic('aimport', 'helperFunctions')\u001b[0m\n",
      "\u001b[0m  File \u001b[0;32m~\\anaconda3\\envs\\Python15-9-24\\Lib\\site-packages\\IPython\\core\\interactiveshell.py:2480\u001b[0m in \u001b[0;35mrun_line_magic\u001b[0m\n    result = fn(*args, **kwargs)\u001b[0m\n",
      "\u001b[0m  File \u001b[0;32m~\\anaconda3\\envs\\Python15-9-24\\Lib\\site-packages\\IPython\\extensions\\autoreload.py:699\u001b[0m in \u001b[0;35maimport\u001b[0m\n    top_module, top_name = self._reloader.aimport_module(_module)\u001b[0m\n",
      "\u001b[0m  File \u001b[0;32m~\\anaconda3\\envs\\Python15-9-24\\Lib\\site-packages\\IPython\\extensions\\autoreload.py:205\u001b[0m in \u001b[0;35maimport_module\u001b[0m\n    import_module(module_name)\u001b[0m\n",
      "\u001b[0m  File \u001b[0;32m~\\anaconda3\\envs\\Python15-9-24\\Lib\\importlib\\__init__.py:126\u001b[0m in \u001b[0;35mimport_module\u001b[0m\n    return _bootstrap._gcd_import(name[level:], package, level)\u001b[0m\n",
      "\u001b[0m  File \u001b[0;32m<frozen importlib._bootstrap>:1204\u001b[0m in \u001b[0;35m_gcd_import\u001b[0m\n",
      "\u001b[0m  File \u001b[0;32m<frozen importlib._bootstrap>:1176\u001b[0m in \u001b[0;35m_find_and_load\u001b[0m\n",
      "\u001b[0m  File \u001b[0;32m<frozen importlib._bootstrap>:1147\u001b[0m in \u001b[0;35m_find_and_load_unlocked\u001b[0m\n",
      "\u001b[0m  File \u001b[0;32m<frozen importlib._bootstrap>:674\u001b[0m in \u001b[0;35m_load_unlocked\u001b[0m\n",
      "\u001b[0m  File \u001b[0;32m<frozen importlib._bootstrap>:634\u001b[0m in \u001b[0;35m_load_backward_compatible\u001b[0m\n",
      "\u001b[0m  File \u001b[0;32m~\\anaconda3\\envs\\Python15-9-24\\Lib\\site-packages\\nbimporter.py:105\u001b[0m in \u001b[0;35mload_module\u001b[0m\n    tree = deleter.generic_visit(ast.parse(code))\u001b[0m\n",
      "\u001b[1;36m  File \u001b[1;32m~\\anaconda3\\envs\\Python15-9-24\\Lib\\ast.py:50\u001b[1;36m in \u001b[1;35mparse\u001b[1;36m\n\u001b[1;33m    return compile(source, filename, mode, flags,\u001b[1;36m\n",
      "\u001b[1;36m  File \u001b[1;32m<unknown>:5\u001b[1;36m\u001b[0m\n\u001b[1;33m    size = len(dataloader.dataset)\u001b[0m\n\u001b[1;37m    ^\u001b[0m\n\u001b[1;31mIndentationError\u001b[0m\u001b[1;31m:\u001b[0m expected an indented block after function definition on line 4\n"
     ]
    }
   ],
   "source": [
    "#reimport local resources with autreloading\n",
    "%aimport helperFunctions"
   ]
  },
  {
   "cell_type": "code",
   "execution_count": 19,
   "id": "5c739bd2-dcc8-4579-ae5d-b1cd1da3c4e3",
   "metadata": {},
   "outputs": [
    {
     "name": "stdout",
     "output_type": "stream",
     "text": [
      "Help on function tellALie in module helperFunctions:\n",
      "\n",
      "tellALie()\n",
      "    Test if the helperFunctions.ipynb or hf library has loaded successfully, but still lies to you!\n",
      "\n"
     ]
    }
   ],
   "source": [
    "help(hf.tellALie)"
   ]
  },
  {
   "cell_type": "markdown",
   "id": "542453a3-ff2b-407e-b76f-fd461bd39384",
   "metadata": {},
   "source": [
    "## Initial Tests"
   ]
  },
  {
   "cell_type": "code",
   "execution_count": 9,
   "id": "9978c31a-fb69-4601-8ba0-83f5e83f3c3a",
   "metadata": {},
   "outputs": [
    {
     "name": "stdout",
     "output_type": "stream",
     "text": [
      "Help on function tellALie in module HelperFunctions:\n",
      "\n",
      "tellALie()\n",
      "    Test if the helperFunctions.ipynb or hf library has loaded successfully, but still lies to you!\n",
      "\n",
      "You have all the time in the world!\n",
      "Your helperfunctions library has been loaded!Change\n",
      "No access to HelperFunctions\n"
     ]
    }
   ],
   "source": [
    "Tests.baseTest()"
   ]
  },
  {
   "cell_type": "code",
   "execution_count": 20,
   "id": "03cf5603-90ea-4bc6-8a2d-1ff972bca608",
   "metadata": {},
   "outputs": [
    {
     "name": "stdout",
     "output_type": "stream",
     "text": [
      "Help on function tellALie in module helperFunctions:\n",
      "\n",
      "tellALie()\n",
      "    Test if the helperFunctions.ipynb or hf library has loaded successfully, but still lies to you!\n",
      "\n"
     ]
    }
   ],
   "source": [
    "help(hf.tellALie)"
   ]
  },
  {
   "cell_type": "code",
   "execution_count": 23,
   "id": "c3c0d299-b9da-4492-9db1-b90d785263b9",
   "metadata": {},
   "outputs": [
    {
     "name": "stdout",
     "output_type": "stream",
     "text": [
      "You have all the time in the world!\n",
      "Your helperfunctions library has been loaded!\n"
     ]
    }
   ],
   "source": [
    "hf.tellALie()"
   ]
  },
  {
   "cell_type": "code",
   "execution_count": null,
   "id": "a6eb4a50-4a60-40a1-8958-2180f0b7e7e9",
   "metadata": {},
   "outputs": [],
   "source": [
    "#independet tests\n",
    "\n",
    "#CMM stands for current model manager and is used as the only model variable to limit memory usage\n",
    "CMM = Tests.createSimpleModel(\"ModelType\")\n",
    "CMM = Tests.createModel(\"ModelType\")\n",
    "CMM = Tests.createModel(\"ModelType\")\n",
    "CMM = Tests.loadModelTest()"
   ]
  },
  {
   "cell_type": "markdown",
   "id": "732c0a57-2b95-4dc2-98e2-4acc0e7a5bce",
   "metadata": {},
   "source": [
    "## Datamanagement"
   ]
  },
  {
   "cell_type": "code",
   "execution_count": 3,
   "id": "7ed55641-f0b4-42b9-9039-402edee451ff",
   "metadata": {},
   "outputs": [
    {
     "name": "stdout",
     "output_type": "stream",
     "text": [
      "Using cpu device\n"
     ]
    }
   ],
   "source": [
    "# Get cpu, gpu or mps device for training. Excellent little code snippet that checks what form of acceleration is available. Code from https://pytorch.org/tutorials/beginner/basics/quickstart_tutorial.html\n",
    "device = hf.get_device()"
   ]
  },
  {
   "cell_type": "code",
   "execution_count": null,
   "id": "3d768bb0-ffaa-416b-b090-8201953f55d7",
   "metadata": {},
   "outputs": [],
   "source": [
    "# For this task I will be using the MNIST data seperated into train and test sets from torchvision datasets as tensors\n",
    "train_data = hf.get_MNIST_train_data()\n",
    "test_data = hf.get_MNIST_test_data()"
   ]
  },
  {
   "cell_type": "markdown",
   "id": "f72925d7-f977-4a17-ba33-821a2487f6d8",
   "metadata": {},
   "source": [
    "### Data transformation"
   ]
  },
  {
   "cell_type": "code",
   "execution_count": null,
   "id": "60d263b2-41b5-499d-8c8b-c825c320bd3b",
   "metadata": {},
   "outputs": [],
   "source": [
    "# Transform data for use in some modoels:"
   ]
  },
  {
   "cell_type": "code",
   "execution_count": null,
   "id": "1e4a1000-1b08-4139-91cc-77e72cfe1b92",
   "metadata": {},
   "outputs": [],
   "source": [
    "#Set data into dataloaders:\n",
    "batch_size = 256\n",
    "\n",
    "train_dataloader = DataLoader(train_data, batch_size=batch_size)\n",
    "test_dataloader = DataLoader(test_data, batch_size=batch_size)"
   ]
  },
  {
   "cell_type": "markdown",
   "id": "1bc5c022-fa9a-4b0f-9cfd-c1fa13230a85",
   "metadata": {},
   "source": [
    "## Tests 2 - Tests with data"
   ]
  },
  {
   "cell_type": "code",
   "execution_count": null,
   "id": "3d47fc0d-7cf9-4640-bce6-aac372d745c2",
   "metadata": {},
   "outputs": [],
   "source": [
    "#tests that depend on A Model having been created and data loaded\n",
    "Tests.trainmodel(CMM)\n",
    "Tests.saveModel(CMM)\n",
    "Tests.visualizations()"
   ]
  },
  {
   "cell_type": "markdown",
   "id": "222ac3f7-32dc-414d-a0a8-a57ec2a43a5b",
   "metadata": {},
   "source": [
    "## MODELS"
   ]
  },
  {
   "cell_type": "code",
   "execution_count": 4,
   "id": "37247d86-794c-4ffe-9da3-26e341b69505",
   "metadata": {},
   "outputs": [],
   "source": [
    "simpleMNISTModel = FirstMNISTTest.NeuralNetwork().to(device)"
   ]
  },
  {
   "cell_type": "code",
   "execution_count": null,
   "id": "132190a5-3be0-4ea9-8d9b-ca03f1cc5209",
   "metadata": {},
   "outputs": [],
   "source": [
    "#Create new modelmanager Available models \"NeuralNetwork\", \"CONVNet\"\n",
    "CMM = hf.create_model_manager( model_class = \"NeuralNetwork\", \n",
    "                                                     loss_function = \"CrossEntropyLoss\",\n",
    "                                                     optimizer_name = \"SGD\",\n",
    "                                                     optimizer_parmas = {lr = 0.001}\n",
    "                                                    )"
   ]
  },
  {
   "cell_type": "code",
   "execution_count": null,
   "id": "cedbb18d-8ae0-4294-a363-90492e11deec",
   "metadata": {},
   "outputs": [],
   "source": []
  },
  {
   "cell_type": "markdown",
   "id": "1cbb7006-8caa-4f28-8285-c544a32970f5",
   "metadata": {},
   "source": [
    "## Visualizations and data"
   ]
  },
  {
   "cell_type": "code",
   "execution_count": 11,
   "id": "36e1beaf-4b4b-4ee4-8789-5ce69a87e3fc",
   "metadata": {},
   "outputs": [
    {
     "data": {
      "application/javascript": [
       "alert(\"Task completed!\")"
      ],
      "text/plain": [
       "<IPython.core.display.Javascript object>"
      ]
     },
     "metadata": {},
     "output_type": "display_data"
    }
   ],
   "source": [
    "\n",
    "from IPython.display import display, Javascript\n",
    "\n",
    "def notify():\n",
    "    display(Javascript('alert(\"Task completed!\")'))\n",
    "    return None\n",
    "# Call notify() when the task is done\n",
    "notify()"
   ]
  },
  {
   "cell_type": "code",
   "execution_count": 38,
   "id": "c18a6b31-d70a-46fa-a625-02c3ef36fdb8",
   "metadata": {},
   "outputs": [
    {
     "name": "stdout",
     "output_type": "stream",
     "text": [
      "[0, 0, 151, 132, 50, 454, 149, 47, 167, 53]\n",
      "[0, 0, 35, 12, 10, 26, 8, 54, 28, 17]\n",
      "[2, 32, 0, 15, 4, 19, 3, 40, 24, 7]\n",
      "[3, 16, 42, 0, 1, 204, 3, 4, 231, 14]\n",
      "[0, 0, 6, 0, 0, 2, 1, 3, 2, 19]\n",
      "[0, 0, 0, 0, 0, 0, 0, 0, 0, 0]\n",
      "[4, 6, 57, 6, 87, 48, 0, 4, 78, 19]\n",
      "[0, 0, 6, 9, 2, 17, 1, 0, 12, 17]\n",
      "[1, 1, 12, 5, 2, 23, 0, 1, 0, 2]\n",
      "[0, 5, 4, 22, 450, 99, 1, 159, 92, 0]\n"
     ]
    }
   ],
   "source": [
    "#failed matrix: Gives a more general understanding of where the model fails. What numbers does it pick wrong and for witch number!\n",
    "failedMatrix = [[0 for x in range(10)] for x in range(10)] \n",
    "for elem in listOfFails:\n",
    "    failedMatrix[elem[1].int()][elem[2]] += 1\n",
    "for row in failedMatrix:\n",
    "    print(row)"
   ]
  },
  {
   "cell_type": "code",
   "execution_count": null,
   "id": "2a75bd9c-f440-4122-84be-8a76d86acaae",
   "metadata": {},
   "outputs": [],
   "source": []
  }
 ],
 "metadata": {
  "kernelspec": {
   "display_name": "Python 3 (ipykernel)",
   "language": "python",
   "name": "python3"
  },
  "language_info": {
   "codemirror_mode": {
    "name": "ipython",
    "version": 3
   },
   "file_extension": ".py",
   "mimetype": "text/x-python",
   "name": "python",
   "nbconvert_exporter": "python",
   "pygments_lexer": "ipython3",
   "version": "3.11.9"
  }
 },
 "nbformat": 4,
 "nbformat_minor": 5
}
